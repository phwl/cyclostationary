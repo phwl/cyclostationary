{
 "cells": [
  {
   "cell_type": "markdown",
   "metadata": {},
   "source": [
    "# SCF Examples\n",
    "\n",
    "This notebook shows the spherical correlation function (SCF) for BPSK. \n",
    "\n"
   ]
  },
  {
   "cell_type": "markdown",
   "metadata": {},
   "source": [
    "These are all the include files"
   ]
  },
  {
   "cell_type": "code",
   "execution_count": 1,
   "metadata": {},
   "outputs": [
    {
     "name": "stdout",
     "output_type": "stream",
     "text": [
      "Using matplotlib backend: <object object at 0x108fc4820>\n",
      "%pylab is deprecated, use %matplotlib inline and import the required libraries.\n",
      "Populating the interactive namespace from numpy and matplotlib\n"
     ]
    }
   ],
   "source": [
    "%pylab\n",
    "# Import functions and libraries\n",
    "import numpy as np\n",
    "import matplotlib.pyplot as plt\n",
    "# import pyaudio\n",
    "import threading,time\n",
    "import sys\n",
    "import cyclostationary\n",
    "import datetime\n",
    "\n",
    "from numpy import pi\n",
    "from numpy import sin\n",
    "from numpy import zeros\n",
    "from numpy import r_\n",
    "from scipy import signal\n",
    "from scipy import integrate\n",
    "\n",
    "import threading,time\n",
    "import multiprocessing\n",
    "\n",
    "from numpy import mean\n",
    "from numpy import power\n",
    "from numpy.fft import fft\n",
    "from numpy.fft import fftshift\n",
    "from numpy.fft import ifft\n",
    "from numpy.fft import ifftshift\n",
    "import bitarray\n",
    "from  scipy.io.wavfile import read as wavread\n",
    "\n",
    "\n",
    "%matplotlib inline\n",
    "\n",
    "def plotfam(x, t, verbose=255):\n",
    "    Np = 64\n",
    "    L = 1\n",
    "    B = 32 # how far around the center we look\n",
    "    xs = x\n",
    "    nx = len(xs) // 2 # center of X axis\n",
    "    # print(\"nx=\", nx)\n",
    "    \n",
    "    # do analysis\n",
    "    s = cyclostationary.scd_fam(xs, Np, L)\n",
    "    f = np.absolute(s)\n",
    "    alpha = cyclostationary.alphaprofile(s)\n",
    "    (my, mx) = f.shape \n",
    "    # print(\"my, mx\", my, mx)\n",
    "    f = f[(my//2-B):(my//2+B), (mx//2-B):(mx//2 + B)]\n",
    "    \n",
    "    if verbose & 1:\n",
    "        # plot SCD graph\n",
    "        plt.matshow(f, cmap='hot')\n",
    "        plt.suptitle(t)\n",
    "        plt.colorbar()\n",
    "        plt.show()\n",
    "\n",
    "    if verbose & 2:\n",
    "        # plot histogram\n",
    "        plt.hist(f)\n",
    "        plt.suptitle(\"Histogram \" + t)\n",
    "        plt.show()\n",
    "        hthresh = 1\n",
    "        hbelow = sum(f.flatten() <= hthresh)\n",
    "        hn = f.size\n",
    "        print(\"Zero/Total={}/{} (thesh={}, {}% sparse)\".format(hbelow, hn, hthresh, 100.0 * hbelow / hn))\n",
    "\n",
    "    if verbose & 4:\n",
    "        # plot alphaprofile graph\n",
    "        plt.plot(alpha)\n",
    "        plt.suptitle(t + \"-alpha\")\n",
    "        plt.show()\n",
    "    return alpha, s\n",
    "\n",
    "def gen_bpsk(Nbits, snrDB=100, sigdB=0, verbose=0):\n",
    "    fs = 44100  # sampling rate\n",
    "    baud = 300  # symbol rate\n",
    "    Ns = fs//baud\n",
    "    N = Nbits * Ns\n",
    "    f0 = 1800\n",
    "    bits = randn(Nbits,1) > 0\n",
    "    imp = zeros(N)\n",
    "    imp[::Ns] = bits.ravel()*2-1\n",
    "\n",
    "    h = signal.firwin(Ns*4,1.0/Ns)\n",
    "    imp_sinc = signal.fftconvolve(imp,h,mode='full')\n",
    "    t = r_[0.0:len(imp_sinc)]/fs\n",
    "    \n",
    "    sigDB = 0\n",
    "    noiseDB = sigDB - snrDB\n",
    "    nscale = pow(10.0, (noiseDB / 20))\n",
    "    sscale = pow(10.0, (sigdB / 20))\n",
    "    BPSK = imp_sinc*sin(2*pi*f0*t)\n",
    "    BPSK = BPSK / max(BPSK)\n",
    "    BPSK_s = sscale * BPSK + nscale * np.random.normal(0,1,len(imp_sinc))\n",
    "    BPSK_s = BPSK_s / max(BPSK_s)\n",
    "    if verbose & 1:\n",
    "        plot(t,BPSK_s)\n",
    "    return t, BPSK_s"
   ]
  },
  {
   "cell_type": "markdown",
   "metadata": {},
   "source": [
    "This generates BPSK at a given signal and noise level"
   ]
  },
  {
   "cell_type": "markdown",
   "metadata": {},
   "source": [
    "This is one of the tests that sweeps the noise level and returns the largest values of the alpha profile\n"
   ]
  },
  {
   "cell_type": "code",
   "execution_count": 2,
   "metadata": {},
   "outputs": [],
   "source": [
    "# sweeps the noise level and returns the largest values of the alpha profile\n",
    "def bpsk_sweepsnr(Nbits, startdB=5, verbose=0):\n",
    "    # returns the set containing the peaks largest indices for the alpha profile for BPSK there should be 2 peaks\n",
    "    def genandplot(snrdB, peaks=2):\n",
    "        t, BPSK_s = gen_bpsk(Nbits, snrdB, verbose=verbose)\n",
    "        alpha, scd = plotfam(BPSK_s, f\"SCF of pulse shaped BPSK SNR={snrdB}\", verbose=verbose)\n",
    "        return set(np.argpartition(alpha, len(alpha)-peaks)[-peaks:]), scd\n",
    "    \n",
    "    resultl = []\n",
    "    testdB = startdB\n",
    "    mindex, origscd = genandplot(testdB)\n",
    "    if verbose > 0:\n",
    "        print(f'scd.shape={origscd.shape}')\n",
    "    resultl.append((testdB, mindex))\n",
    "    while True:\n",
    "        testdB -= 1\n",
    "        nindex, scd = genandplot(testdB)\n",
    "        resultl.append((testdB, nindex))\n",
    "        if nindex != mindex:\n",
    "            break\n",
    "    genandplot(testdB)\n",
    "    return testdB, resultl\n"
   ]
  },
  {
   "cell_type": "markdown",
   "metadata": {},
   "source": [
    "Signal generation parameters (BPSK)"
   ]
  },
  {
   "cell_type": "markdown",
   "metadata": {},
   "source": [
    "This runs an initial test at good SNR to use as a reference"
   ]
  },
  {
   "cell_type": "code",
   "execution_count": null,
   "metadata": {},
   "outputs": [
    {
     "name": "stdout",
     "output_type": "stream",
     "text": [
      "bits=2^1: Score_SNR=-9 (0:00:00.237204)\n",
      "bits=2^2: Score_SNR=-8 (0:00:00.459262)\n",
      "bits=2^3: Score_SNR=-4 (0:00:00.227299)\n",
      "bits=2^4: Score_SNR=-10 (0:00:01.538227)\n",
      "bits=2^5: Score_SNR=-10 (0:00:01.500931)\n",
      "bits=2^6: Score_SNR=-14 (0:00:04.830347)\n",
      "bits=2^7: Score_SNR=-16 (0:00:11.479171)\n",
      "bits=2^8: Score_SNR=-21 (0:00:28.804439)\n",
      "bits=2^9: Score_SNR=-20 (0:00:31.749446)\n"
     ]
    }
   ],
   "source": [
    "scores = []\n",
    "for i in range(1,16):\n",
    "    bits = 1 << i\n",
    "    start = datetime.datetime.now()\n",
    "    try:\n",
    "        testdB, resultl = bpsk_sweepsnr(bits, startdB=testdB+5, verbose=0)\n",
    "    except:\n",
    "        testdB, resultl = bpsk_sweepsnr(bits, verbose=0)        \n",
    "    print(f'bits=2^{i}: Score_SNR={testdB} ({datetime.datetime.now() - start})')\n",
    "    scores.append([testdB, resultl])\n",
    "print([x[0] for x in scores])\n"
   ]
  },
  {
   "cell_type": "markdown",
   "metadata": {},
   "source": [
    "Prints the noise dB and largest values"
   ]
  },
  {
   "cell_type": "code",
   "execution_count": null,
   "metadata": {},
   "outputs": [],
   "source": [
    "print(f'SNR_score={-t}, points={r}')"
   ]
  },
  {
   "cell_type": "markdown",
   "metadata": {},
   "source": [
    "Plots the time domain and SCD when the test fails"
   ]
  },
  {
   "cell_type": "code",
   "execution_count": null,
   "metadata": {},
   "outputs": [],
   "source": [
    "genandplot(t, True)"
   ]
  },
  {
   "cell_type": "code",
   "execution_count": null,
   "metadata": {},
   "outputs": [],
   "source": []
  }
 ],
 "metadata": {
  "kernelspec": {
   "display_name": "Python 3 (ipykernel)",
   "language": "python",
   "name": "python3"
  },
  "language_info": {
   "codemirror_mode": {
    "name": "ipython",
    "version": 3
   },
   "file_extension": ".py",
   "mimetype": "text/x-python",
   "name": "python",
   "nbconvert_exporter": "python",
   "pygments_lexer": "ipython3",
   "version": "3.9.12"
  }
 },
 "nbformat": 4,
 "nbformat_minor": 1
}
