{
 "cells": [
  {
   "cell_type": "markdown",
   "id": "622c0a0e-6ecb-4f46-b916-5ba37cc0d481",
   "metadata": {},
   "source": [
    "# Cyclostationary Analysis"
   ]
  },
  {
   "cell_type": "markdown",
   "id": "6e562bbe-e3fb-4251-9a62-921dd509785b",
   "metadata": {},
   "source": [
    "## Headers"
   ]
  },
  {
   "cell_type": "code",
   "execution_count": 1,
   "id": "e7bd4e8d-05ba-4f89-9117-25a5c6b37e7a",
   "metadata": {},
   "outputs": [],
   "source": [
    "# Import functions and libraries\n",
    "import numpy as np\n",
    "import threading,time\n",
    "import sys\n",
    "from cyclostationary import scd_fam\n",
    "\n",
    "from numpy import pi\n",
    "from numpy import sin\n",
    "from numpy import zeros\n",
    "from numpy import r_\n",
    "from numpy.random import randn\n",
    "from scipy import signal\n",
    "from scipy import integrate"
   ]
  },
  {
   "cell_type": "markdown",
   "id": "72ac58d5-0f63-4e9c-825e-302e7635cb36",
   "metadata": {},
   "source": [
    "## Radio"
   ]
  },
  {
   "cell_type": "code",
   "execution_count": 2,
   "id": "3d5ec64a-c15d-4f93-94db-6851b2694e98",
   "metadata": {},
   "outputs": [],
   "source": [
    "class RtlSdr:\n",
    "    def __init__(self, mod = 'ook'):\n",
    "        self.fs = 44100  # sampling rate\n",
    "        self.mod = mod\n",
    "        np.random.seed(seed=1)\n",
    "\n",
    "    def read_samples_ook(self, n):\n",
    "        fs = self.fs  # sampling rate\n",
    "        baud = 300  # symbol rate\n",
    "        Nbits = 10  # number of bits\n",
    "        Ns = fs // baud\n",
    "        N = Nbits * Ns\n",
    "        f0 = 1800\n",
    "        bits = randn(Nbits, 1) > 0\n",
    "        M = np.tile(bits,(1, Ns))\n",
    "        t = r_[0.0:N] / fs\n",
    "        OOK = M.ravel() * sin(2 * pi * f0 * t)\n",
    "    \n",
    "        return 100.0 * OOK[:n] + 0.001 * randn(n, 1)       # very lazy way to do this, fix!\n",
    "\n",
    "    def read_samples(self, n):\n",
    "        if self.mod == 'ook':\n",
    "            return self.read_samples_ook(n)\n",
    "        else:\n",
    "            return None\n",
    "\n",
    "    def close(self):\n",
    "        pass\n",
    "\n"
   ]
  },
  {
   "cell_type": "markdown",
   "id": "e0af321b-c305-461f-a580-9370eb81f312",
   "metadata": {},
   "source": [
    "## Compute SCD\n"
   ]
  },
  {
   "cell_type": "code",
   "execution_count": 3,
   "id": "f7f2f131-5560-4eeb-97f4-27df4eeae7f2",
   "metadata": {},
   "outputs": [],
   "source": [
    "class SCD:\n",
    "    def __init__(self, N = 512, Np = 64, L = 1, mod = 'ook'):\n",
    "        self.N = N\n",
    "        self.Np = Np\n",
    "        self.L = L\n",
    "        self.r = RtlSdr(mod = mod)\n",
    "\n",
    "    def readcompute(self):\n",
    "        x = self.r.read_samples(self.N)\n",
    "        scd = np.absolute(scd_fam(x, self.Np, self.L)) + 1e-6\n",
    "        return scd\n"
   ]
  },
  {
   "cell_type": "markdown",
   "id": "543b669f-998b-4972-99f7-fc05bc46d489",
   "metadata": {},
   "source": [
    "## GUI"
   ]
  },
  {
   "cell_type": "code",
   "execution_count": 4,
   "id": "d1c4509c-86c8-402c-ad46-d7a5ab841483",
   "metadata": {},
   "outputs": [
    {
     "ename": "KeyboardInterrupt",
     "evalue": "",
     "output_type": "error",
     "traceback": [
      "\u001b[0;31m---------------------------------------------------------------------------\u001b[0m",
      "\u001b[0;31mKeyboardInterrupt\u001b[0m                         Traceback (most recent call last)",
      "Cell \u001b[0;32mIn[4], line 31\u001b[0m\n\u001b[1;32m     29\u001b[0m \u001b[38;5;66;03m#dpg.start_dearpygui()\u001b[39;00m\n\u001b[1;32m     30\u001b[0m \u001b[38;5;28;01mwhile\u001b[39;00m dpg\u001b[38;5;241m.\u001b[39mis_dearpygui_running():\n\u001b[0;32m---> 31\u001b[0m     \u001b[43mupdate_scdwindow\u001b[49m\u001b[43m(\u001b[49m\u001b[43m)\u001b[49m\n\u001b[1;32m     32\u001b[0m     dpg\u001b[38;5;241m.\u001b[39mrender_dearpygui_frame()\n\u001b[1;32m     33\u001b[0m dpg\u001b[38;5;241m.\u001b[39mdestroy_context()\n",
      "Cell \u001b[0;32mIn[4], line 8\u001b[0m, in \u001b[0;36mupdate_scdwindow\u001b[0;34m()\u001b[0m\n\u001b[1;32m      6\u001b[0m \u001b[38;5;28;01mdef\u001b[39;00m \u001b[38;5;21mupdate_scdwindow\u001b[39m():\n\u001b[1;32m      7\u001b[0m     dpg\u001b[38;5;241m.\u001b[39mdelete_item(\u001b[38;5;124mf\u001b[39m\u001b[38;5;124m\"\u001b[39m\u001b[38;5;124m_plot\u001b[39m\u001b[38;5;124m\"\u001b[39m)\n\u001b[0;32m----> 8\u001b[0m     values \u001b[38;5;241m=\u001b[39m \u001b[43mscd\u001b[49m\u001b[38;5;241;43m.\u001b[39;49m\u001b[43mreadcompute\u001b[49m\u001b[43m(\u001b[49m\u001b[43m)\u001b[49m\n\u001b[1;32m      9\u001b[0m     dpg\u001b[38;5;241m.\u001b[39madd_heat_series(values\u001b[38;5;241m.\u001b[39mflatten()\u001b[38;5;241m.\u001b[39mtolist(), values\u001b[38;5;241m.\u001b[39mshape[\u001b[38;5;241m0\u001b[39m], values\u001b[38;5;241m.\u001b[39mshape[\u001b[38;5;241m1\u001b[39m], parent \u001b[38;5;241m=\u001b[39m\u001b[38;5;124mf\u001b[39m\u001b[38;5;124m\"\u001b[39m\u001b[38;5;124m_y_axis\u001b[39m\u001b[38;5;124m\"\u001b[39m,  \n\u001b[1;32m     10\u001b[0m                         scale_min\u001b[38;5;241m=\u001b[39mvalues\u001b[38;5;241m.\u001b[39mmin(), scale_max\u001b[38;5;241m=\u001b[39mvalues\u001b[38;5;241m.\u001b[39mmax(), \n\u001b[1;32m     11\u001b[0m                         \u001b[38;5;28mformat\u001b[39m\u001b[38;5;241m=\u001b[39m\u001b[38;5;124m\"\u001b[39m\u001b[38;5;124m\"\u001b[39m, tag\u001b[38;5;241m=\u001b[39m\u001b[38;5;124mf\u001b[39m\u001b[38;5;124m\"\u001b[39m\u001b[38;5;124m_plot\u001b[39m\u001b[38;5;124m\"\u001b[39m, \n\u001b[1;32m     12\u001b[0m                         \u001b[38;5;66;03m#bounds_max=[values.shape[0]-0.5, values.shape[1]-0.5], bounds_min=[-0.5, -0.5], \u001b[39;00m\n\u001b[1;32m     13\u001b[0m                         label\u001b[38;5;241m=\u001b[39m\u001b[38;5;124m\"\u001b[39m\u001b[38;5;124mSeries\u001b[39m\u001b[38;5;124m\"\u001b[39m)\n",
      "Cell \u001b[0;32mIn[3], line 10\u001b[0m, in \u001b[0;36mSCD.readcompute\u001b[0;34m(self)\u001b[0m\n\u001b[1;32m      8\u001b[0m \u001b[38;5;28;01mdef\u001b[39;00m \u001b[38;5;21mreadcompute\u001b[39m(\u001b[38;5;28mself\u001b[39m):\n\u001b[1;32m      9\u001b[0m     x \u001b[38;5;241m=\u001b[39m \u001b[38;5;28mself\u001b[39m\u001b[38;5;241m.\u001b[39mr\u001b[38;5;241m.\u001b[39mread_samples(\u001b[38;5;28mself\u001b[39m\u001b[38;5;241m.\u001b[39mN)\n\u001b[0;32m---> 10\u001b[0m     scd \u001b[38;5;241m=\u001b[39m np\u001b[38;5;241m.\u001b[39mabsolute(\u001b[43mscd_fam\u001b[49m\u001b[43m(\u001b[49m\u001b[43mx\u001b[49m\u001b[43m,\u001b[49m\u001b[43m \u001b[49m\u001b[38;5;28;43mself\u001b[39;49m\u001b[38;5;241;43m.\u001b[39;49m\u001b[43mNp\u001b[49m\u001b[43m,\u001b[49m\u001b[43m \u001b[49m\u001b[38;5;28;43mself\u001b[39;49m\u001b[38;5;241;43m.\u001b[39;49m\u001b[43mL\u001b[49m\u001b[43m)\u001b[49m) \u001b[38;5;241m+\u001b[39m \u001b[38;5;241m1e-6\u001b[39m\n\u001b[1;32m     11\u001b[0m     \u001b[38;5;28;01mreturn\u001b[39;00m scd\n",
      "File \u001b[0;32m~/Library/CloudStorage/OneDrive-TheUniversityofSydney(Staff)/usyd-onedrive/src/cruxspectrum/dpg/cyclostationary.py:53\u001b[0m, in \u001b[0;36mscd_fam\u001b[0;34m(x, Np, L, N)\u001b[0m\n\u001b[1;32m     50\u001b[0m         XF2 \u001b[38;5;241m/\u001b[39m\u001b[38;5;241m=\u001b[39m P\n\u001b[1;32m     52\u001b[0m         i \u001b[38;5;241m=\u001b[39m (k\u001b[38;5;241m+\u001b[39ml) \u001b[38;5;241m/\u001b[39m\u001b[38;5;241m/\u001b[39m \u001b[38;5;241m2\u001b[39m\n\u001b[0;32m---> 53\u001b[0m         a \u001b[38;5;241m=\u001b[39m \u001b[38;5;28mint\u001b[39m(((k\u001b[38;5;241m-\u001b[39ml)\u001b[38;5;241m/\u001b[39m\u001b[38;5;28mfloat\u001b[39m(Np) \u001b[38;5;241m+\u001b[39m \u001b[38;5;241m1.\u001b[39m) \u001b[38;5;241m*\u001b[39m N)\n\u001b[1;32m     54\u001b[0m         Sx[i,a\u001b[38;5;241m-\u001b[39mMp:a\u001b[38;5;241m+\u001b[39mMp] \u001b[38;5;241m=\u001b[39m XF2[(P\u001b[38;5;241m/\u001b[39m\u001b[38;5;241m/\u001b[39m\u001b[38;5;241m2\u001b[39m\u001b[38;5;241m-\u001b[39mMp):(P\u001b[38;5;241m/\u001b[39m\u001b[38;5;241m/\u001b[39m\u001b[38;5;241m2\u001b[39m\u001b[38;5;241m+\u001b[39mMp)]\n\u001b[1;32m     55\u001b[0m \u001b[38;5;28;01mreturn\u001b[39;00m Sx\n",
      "\u001b[0;31mKeyboardInterrupt\u001b[0m: "
     ]
    }
   ],
   "source": [
    "import dearpygui.dearpygui as dpg\n",
    "import numpy as np\n",
    "dpg.create_context()\n",
    "\n",
    "# This is called every frame\n",
    "def update_scdwindow():\n",
    "    dpg.delete_item(f\"_plot\")\n",
    "    values = scd.readcompute()\n",
    "    dpg.add_heat_series(values.flatten().tolist(), values.shape[0], values.shape[1], parent =f\"_y_axis\",  \n",
    "                        scale_min=values.min(), scale_max=values.max(), \n",
    "                        format=\"\", tag=f\"_plot\", \n",
    "                        #bounds_max=[values.shape[0]-0.5, values.shape[1]-0.5], bounds_min=[-0.5, -0.5], \n",
    "                        label=\"Series\")\n",
    "    \n",
    "scd = SCD()\n",
    "dpg.show_tool(dpg.mvTool_Metrics)\n",
    "\n",
    "with dpg.window(label=\"SCD plot\", width=1024, height=768):\n",
    "    with dpg.group(horizontal=True):\n",
    "        # dpg.add_colormap_scale(min_scale=values.min(), max_scale=values.max(), colormap=dpg.mvPlotColormap_Jet, tag=f\"_legend\")\n",
    "        with dpg.plot(label=\"Spectral Correlation Density (FAM)\", height=-1, width=-1, crosshairs=True, anti_aliased =False, delay_search=True):\n",
    "            # dpg.bind_colormap(dpg.last_item(), dpg.mvPlotColormap_Jet)\n",
    "            dpg.add_plot_axis(dpg.mvXAxis, tag=f\"_x_axis\", no_tick_marks=False, no_gridlines=False)\n",
    "            dpg.add_plot_axis(dpg.mvYAxis, tag=f\"_y_axis\", no_tick_marks=False, no_gridlines=False)\n",
    "\n",
    "dpg.create_viewport(title='Custom Title', width=800, height=600)\n",
    "dpg.setup_dearpygui()\n",
    "dpg.show_viewport()\n",
    "#dpg.start_dearpygui()\n",
    "while dpg.is_dearpygui_running():\n",
    "    update_scdwindow()\n",
    "    dpg.render_dearpygui_frame()\n",
    "dpg.destroy_context()"
   ]
  },
  {
   "cell_type": "code",
   "execution_count": null,
   "id": "7755ade0-a9c8-4ad8-ba88-946524161358",
   "metadata": {},
   "outputs": [],
   "source": []
  }
 ],
 "metadata": {
  "kernelspec": {
   "display_name": "Python 3 (ipykernel)",
   "language": "python",
   "name": "python3"
  },
  "language_info": {
   "codemirror_mode": {
    "name": "ipython",
    "version": 3
   },
   "file_extension": ".py",
   "mimetype": "text/x-python",
   "name": "python",
   "nbconvert_exporter": "python",
   "pygments_lexer": "ipython3",
   "version": "3.11.5"
  }
 },
 "nbformat": 4,
 "nbformat_minor": 5
}
